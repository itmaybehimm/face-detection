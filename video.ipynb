{
 "cells": [
  {
   "cell_type": "code",
   "execution_count": 1,
   "id": "ac8f2739-a0e0-4c61-95bc-a5afde6ff93f",
   "metadata": {},
   "outputs": [],
   "source": [
    "import os\n",
    "import numpy as np\n",
    "import glob\n",
    "import random\n",
    "from PIL import Image\n",
    "from matplotlib import pyplot as plt\n",
    "from matplotlib.patches import Rectangle\n",
    "import cv2 as cv\n",
    "import time\n",
    "import tensorflow as tf\n",
    "from PIL import Image,ImageDraw"
   ]
  },
  {
   "cell_type": "code",
   "execution_count": 2,
   "id": "73e6ef6b-3490-4a14-955c-bed8568f0761",
   "metadata": {},
   "outputs": [],
   "source": [
    "import tensorflow as tf\n",
    "from tensorflow.keras import Sequential,Input\n",
    "from tensorflow.keras.layers import Dense,GlobalMaxPooling2D\n",
    "from tensorflow.keras.losses import BinaryCrossentropy,MeanSquaredError\n",
    "from tensorflow.keras.optimizers import Adam\n",
    "from tensorflow.keras import metrics\n",
    "from tensorflow.keras.metrics import MeanAbsoluteError, RootMeanSquaredError, MeanSquaredError\n",
    "from tensorflow.keras.applications.vgg16 import VGG16"
   ]
  },
  {
   "cell_type": "code",
   "execution_count": 3,
   "id": "b9cb3dab-3ff4-42b7-ab58-af49ca0698de",
   "metadata": {},
   "outputs": [
    {
     "ename": "NameError",
     "evalue": "name 'custom_loss_function' is not defined",
     "output_type": "error",
     "traceback": [
      "\u001b[0;31m---------------------------------------------------------------------------\u001b[0m",
      "\u001b[0;31mNameError\u001b[0m                                 Traceback (most recent call last)",
      "Cell \u001b[0;32mIn[3], line 2\u001b[0m\n\u001b[1;32m      1\u001b[0m class_loss\u001b[38;5;241m=\u001b[39mBinaryCrossentropy()\n\u001b[0;32m----> 2\u001b[0m reg_loss\u001b[38;5;241m=\u001b[39m\u001b[43mcustom_loss_function\u001b[49m\n\u001b[1;32m      3\u001b[0m opt\u001b[38;5;241m=\u001b[39mAdam(learning_rate\u001b[38;5;241m=\u001b[39m\u001b[38;5;241m0.0001\u001b[39m)\n",
      "\u001b[0;31mNameError\u001b[0m: name 'custom_loss_function' is not defined"
     ]
    }
   ],
   "source": []
  },
  {
   "cell_type": "code",
   "execution_count": 4,
   "id": "1f8c13a5-5f94-4113-82ae-118c3ff74cee",
   "metadata": {},
   "outputs": [],
   "source": [
    "def custom_loss_function(y_true, y_pred):\n",
    "    delta_points=tf.reduce_sum(tf.square(y_true[:2]-y_pred[:2]))\n",
    "    \n",
    "    h_pred=y_pred[3]-y_pred[1]\n",
    "    w_pred=y_pred[2]-y_pred[0]\n",
    "    h_true=y_true[3]-y_true[1]\n",
    "    w_true=y_true[2]-y_true[0]\n",
    "    \n",
    "    delta_size=tf.reduce_sum(tf.square(h_true-h_pred)+tf.square(w_true-w_pred))\n",
    "    \n",
    "    return delta_points+delta_size"
   ]
  },
  {
   "cell_type": "code",
   "execution_count": 5,
   "id": "f0a5bec7-d496-4c44-a271-6c0248a473ee",
   "metadata": {},
   "outputs": [],
   "source": [
    "class_loss=BinaryCrossentropy()\n",
    "reg_loss=custom_loss_function\n",
    "opt=Adam(learning_rate=0.0001)"
   ]
  },
  {
   "cell_type": "code",
   "execution_count": 6,
   "id": "f75869af-5b3f-499d-9d7f-142edea8566d",
   "metadata": {},
   "outputs": [],
   "source": [
    "input_layer=Input(shape=(100,100,3))\n",
    "\n",
    "vgg= VGG16(include_top=False)(input_layer)\n",
    "\n",
    "f1=GlobalMaxPooling2D()(vgg)\n",
    "class_l1=Dense(units=2048, activation='relu')(f1)\n",
    "class_out= Dense(units=1,activation='sigmoid',name='class_out')(class_l1)\n",
    "\n",
    "f2=GlobalMaxPooling2D()(vgg)\n",
    "reg_l1=Dense(units=2040, activation='relu')(f2)\n",
    "reg_out= Dense(units=4,activation='sigmoid',name='reg_out')(reg_l1)\n",
    "\n",
    "model=tf.keras.Model(input_layer,[class_out,reg_out])\n",
    "model.compile(loss = [class_loss,reg_loss],optimizer = opt)"
   ]
  },
  {
   "cell_type": "code",
   "execution_count": 7,
   "id": "989ad3df-2ff6-43c4-a379-53bfdac54b77",
   "metadata": {},
   "outputs": [],
   "source": [
    "model.load_weights('gmodel.h5')"
   ]
  },
  {
   "cell_type": "code",
   "execution_count": null,
   "id": "96ced0a2-89d0-4be9-af01-363e7b1e3bfd",
   "metadata": {},
   "outputs": [
    {
     "name": "stderr",
     "output_type": "stream",
     "text": [
      "2023-12-02 07:56:44.539 Python[5089:297214] WARNING: AVCaptureDeviceTypeExternal is deprecated for Continuity Cameras. Please use AVCaptureDeviceTypeContinuityCamera and add NSCameraUseContinuityCameraDeviceType to your Info.plist.\n"
     ]
    }
   ],
   "source": [
    "cap = cv.VideoCapture(1)\n",
    "w=600\n",
    "h=600\n",
    "\n",
    "if not cap.isOpened():\n",
    "    print(\"Cannot open camera\")\n",
    "    exit()\n",
    "\n",
    "#wait for video camera to setup\n",
    "time.sleep(2)\n",
    "\n",
    "while 1:\n",
    "    # Capture frame-by-frame\n",
    "    ret, frame = cap.read()\n",
    "    # if frame is read correctly ret is True\n",
    "    if not ret:\n",
    "        print(\"Can't receive frame (stream end?). Exiting ...\")\n",
    "        break\n",
    "    # Our operations on the frame come here\n",
    "    center = frame.shape\n",
    "    x = center[1]/2 - w/2\n",
    "    y = center[0]/2- h/2\n",
    "    frame = frame[int(y):int(y+h), int(x):int(x+w)]\n",
    "    \n",
    "    img_pil = cv.cvtColor(frame, cv.COLOR_BGR2RGB)\n",
    "    \n",
    "    img_pil = Image.fromarray(img_pil)\n",
    "    \n",
    "    newsize = (100, 100)\n",
    "    \n",
    "    img = img_pil.resize(newsize)\n",
    "\n",
    "    img = np.asarray(img)\n",
    "    #divide by 255 and reshape to vector\n",
    "    img=img/255\n",
    "    \n",
    "    X = np.expand_dims(img, axis=0)\n",
    "    \n",
    "    y_class,y_reg=model.predict(X,verbose=0)\n",
    "    \n",
    "    if(y_class>=0.5):\n",
    "        points = (y_reg*100*6).reshape(4,)\n",
    "        x_min = points[0]\n",
    "        y_min = points[1]\n",
    "        x_max=points[2]\n",
    "        y_max=points[3]\n",
    "        # w = points[2] - points[0]\n",
    "        # h = points[3] - points[1]\n",
    "        shape = [(x_min, y_min), (x_max, y_max)] \n",
    "        img_pil_draw=ImageDraw.Draw(img_pil)\n",
    "        img_pil_draw.rectangle(shape,fill=None,outline=\"red\")\n",
    "        img_pil = img_pil_draw._image\n",
    "        \n",
    "        tracked = frame[int(x_min):int(x_max),int(y_min):int(y_max]\n",
    "\n",
    "        \n",
    "\n",
    "    frame = np.array(img_pil)\n",
    "    frame = cv.cvtColor(frame, cv.COLOR_RGB2BGR)\n",
    "    cv.imshow(\"frame\",frame)\n",
    "    \n",
    "    cv.imshow(\"tracked\",tracked)\n",
    "\n",
    "    \n",
    "    if cv.waitKey(1) == ord('q'):\n",
    "        break\n",
    "# When everything done, release the capture\n",
    "cap.release()\n",
    "cv.destroyAllWindows()\n",
    "# I don't know why we need these 4 lines but it works\n",
    "cv.waitKey(1)\n",
    "cv.waitKey(1)\n",
    "cv.waitKey(1)\n",
    "cv.waitKey(1)"
   ]
  },
  {
   "cell_type": "markdown",
   "id": "f1a25990-33fb-4e85-bef2-1307c1510181",
   "metadata": {},
   "source": [
    "## "
   ]
  },
  {
   "cell_type": "code",
   "execution_count": null,
   "id": "13d64f03-79a9-47e9-80cd-130c3cf331e6",
   "metadata": {},
   "outputs": [],
   "source": []
  }
 ],
 "metadata": {
  "kernelspec": {
   "display_name": "ml-kernel",
   "language": "python",
   "name": "ml-kernel"
  },
  "language_info": {
   "codemirror_mode": {
    "name": "ipython",
    "version": 3
   },
   "file_extension": ".py",
   "mimetype": "text/x-python",
   "name": "python",
   "nbconvert_exporter": "python",
   "pygments_lexer": "ipython3",
   "version": "3.11.6"
  }
 },
 "nbformat": 4,
 "nbformat_minor": 5
}
